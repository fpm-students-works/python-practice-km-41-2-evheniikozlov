{
 "cells": [
  {
   "cell_type": "markdown",
   "metadata": {
    "id": "FMqboNwO4rVs"
   },
   "source": [
    "# **Курс \"Програмування на мові Python\"**"
   ]
  },
  {
   "cell_type": "markdown",
   "metadata": {
    "id": "A2T6MigL5Z06"
   },
   "source": [
    "## **Практичне зайняття №10**\n",
    "\n",
    "### Тема: \"Лямбда-функції. Функції вищих порядків\""
   ]
  },
  {
   "cell_type": "markdown",
   "metadata": {
    "id": "cfCdgK2zXm7e"
   },
   "source": [
    "### **Завдання 1 (1 бал)**\n",
    "\n",
    "Керівництво будівельної компанії вирішило підняти заробітні плати всім своїм працівникам на 30%. В залежності від спеціалізації та стажу працівники мають різну заробітну плату. Для підготовки звіту необхідно розрахувати нову заробітну плату для працівників компанії, а також суму індексації.\n",
    "\n",
    "Написати програму, яка буде генерувати таблицю для цього звіту. Початкова заробітна плата працівників подана у списку salary_list (у тисячах гривень). \n",
    "\n",
    "1. Для підрахунку невідомих значень повинні використовуватись вбудовані функції вищих порядків.\n",
    "\n",
    "2. Зарплата після індексації та сума індексації для працівників різних категорій повинні зберігатись у двох окремих списках. Порядок значень у кожному з нових списків повинен відповідати порядку значень у списку salary_list.\n",
    "\n",
    "3. Кожне підраховане числове значення має бути округлене до сотих.\n",
    "\n",
    "4. Дані повинні виводитись у вигляді:\n",
    "\n",
    "**Salary table:**\n",
    "\n",
    "**6.4 8.32 1.92**\n",
    "\n",
    "**9.35 12.16 2.81**\n",
    "\n",
    "**...**\n",
    "\n",
    "salary_list = [6.4, 9.35, 11.4, 14, 23.8, 28.15, 34.7]"
   ]
  },
  {
   "cell_type": "code",
   "execution_count": 15,
   "metadata": {
    "id": "ifNX2M7LXm7f"
   },
   "outputs": [
    {
     "name": "stdout",
     "output_type": "stream",
     "text": [
      "Salary table: \n",
      "6.4\t8.32\t1.92\n",
      "9.35\t12.16\t2.81\n",
      "11.4\t14.82\t3.42\n",
      "14\t18.2\t4.2\n",
      "23.8\t30.94\t7.14\n",
      "28.15\t36.6\t8.45\n",
      "34.7\t45.11\t10.41\n"
     ]
    }
   ],
   "source": [
    "def my_round(x, n):\n",
    "    return round(x * 10 ** n) / 10 ** n\n",
    "\n",
    "salary_list = [6.4, 9.35, 11.4, 14, 23.8, 28.15, 34.7]\n",
    "new_salary_list = list(map(lambda x: my_round(x * 1.3, 2), salary_list))\n",
    "indexation_list = list(map(lambda x: my_round(x[1] - x[0], 2), zip(salary_list, new_salary_list)))\n",
    "\n",
    "print(\"Salary table: \")\n",
    "for i in range(len(salary_list)):\n",
    "    print(f\"{salary_list[i]}\\t{new_salary_list[i]}\\t{indexation_list[i]}\")"
   ]
  },
  {
   "cell_type": "markdown",
   "metadata": {},
   "source": [
    "### **Завдання 2 (2 бали)**\n",
    "\n",
    "Зазвичай рік має 365 днів. Однак у високосні роки додається ще один день - 29 лютого. Правила визначення високосного року такі:\n",
    "\n",
    "- Будь-який рік, що ділиться на 400 - високосний.\n",
    "\n",
    "- З тих років, що залишились, будь-який рік, що ділиться на 100 - **не** високосний.\n",
    "\n",
    "- З тих років, що залишились, будь-який рік, що ділиться на 4 - високосний.\n",
    "\n",
    "- Усі інші роки, що залишились - **не** високосні.\n",
    "\n",
    "1) Створіть функцію, в якій за допомогою вбудованих функцій вищих порядків будуть визначатися високосні роки серед перелічених років у списку years. Створена функція має повертати список високосних років.\n",
    "\n",
    "2) Створіть функцію вищих порядків, яка прийматиме на вхід попередню функцію та визначатиме кількість днів у місяці. Також функція повинна приймати на вхід ще 2 параметри: ціле число від 1 до 12 (місяць) та рік, як ціле чотирицифрове число. Ці значення корисувач має вводити з клавіатури. Перевірку введених даних слід виконувати поза межами функцій."
   ]
  },
  {
   "cell_type": "code",
   "execution_count": 4,
   "metadata": {},
   "outputs": [
    {
     "name": "stdout",
     "output_type": "stream",
     "text": [
      "Leap years from 1900 to 2020: 1904, 1908, 1912, 1916, 1920, 1924, 1928, 1932, 1936, 1940, 1944, 1948, 1952, 1956, 1960, 1964, 1968, 1972, 1976, 1980, 1984, 1988, 1992, 1996, 2000, 2004, 2008, 2012, 2016, 2020\n"
     ]
    },
    {
     "name": "stdout",
     "output_type": "stream",
     "text": [
      "The number is not in the correct range. It must be from 1 to 12\n",
      "The number is not in the correct range. It must be from 1 to 12\n",
      "You did not enter an integer\n",
      "The number is not in the correct range. It must be from 1000 to 9999\n",
      "The number of days in the 11 month of 1353 year is 30\n"
     ]
    }
   ],
   "source": [
    "import numpy as np\n",
    "\n",
    "def get_int_in_range(start, end, input_phrase):\n",
    "    number = 0\n",
    "    while True:\n",
    "        try:\n",
    "            number = int(input(input_phrase))\n",
    "            if number >= start and number <= end:\n",
    "                return number\n",
    "            print(f\"The number is not in the correct range. It must be from {start} to {end}\")\n",
    "        except:\n",
    "            print(\"You did not enter an integer\")\n",
    "            \n",
    "def get_leap_years(years):\n",
    "    return list(filter(lambda year: (not (year % 4) and year % 100) or (not (year % 400)), years))\n",
    "\n",
    "def print_leap_years(get_leap_years, start, end):\n",
    "    leap_years = map(lambda x: str(x), get_leap_years(np.arange(start, end + 1, 1)))\n",
    "    print(f\"Leap years from {start} to {end}: {', '.join(leap_years)}\")\n",
    "\n",
    "def get_number_of_days_in_month(get_leap_years, month, year):\n",
    "    month_to_number_of_days = {\n",
    "        1: 31,\n",
    "        2: 28,\n",
    "        3: 31,\n",
    "        4: 30,\n",
    "        5: 31,\n",
    "        6: 30,\n",
    "        7: 31,\n",
    "        8: 31,\n",
    "        9: 30,\n",
    "        10: 31,\n",
    "        11: 30,\n",
    "        12: 31\n",
    "    }\n",
    "    number_of_days_in_month = month_to_number_of_days[month]\n",
    "    if month == 2 and get_leap_years([year]) != []:\n",
    "        number_of_days_in_month += 1\n",
    "    return number_of_days_in_month\n",
    "\n",
    "print_leap_years(get_leap_years, 1900, 2020)\n",
    "\n",
    "month = get_int_in_range(1, 12, \"Enter a month: \")\n",
    "year = get_int_in_range(1000, 9999, \"Enter a year: \")\n",
    "number_of_days = get_number_of_days_in_month(get_leap_years, month, year)\n",
    "print(f\"The number of days in the {month} month of {year} year is {number_of_days}\")"
   ]
  }
 ],
 "metadata": {
  "colab": {
   "collapsed_sections": [],
   "name": "Practice_7_KM-01_.ipynb",
   "provenance": []
  },
  "kernelspec": {
   "display_name": "Python 3",
   "name": "python3"
  },
  "language_info": {
   "codemirror_mode": {
    "name": "ipython",
    "version": 3
   },
   "file_extension": ".py",
   "mimetype": "text/x-python",
   "name": "python",
   "nbconvert_exporter": "python",
   "pygments_lexer": "ipython3",
   "version": "3.10.12"
  }
 },
 "nbformat": 4,
 "nbformat_minor": 0
}
