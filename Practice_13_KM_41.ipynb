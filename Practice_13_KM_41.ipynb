{
 "cells": [
  {
   "cell_type": "markdown",
   "metadata": {
    "id": "FMqboNwO4rVs"
   },
   "source": [
    "# **Курс \"Програмування на мові Python\"**"
   ]
  },
  {
   "cell_type": "markdown",
   "metadata": {
    "id": "A2T6MigL5Z06"
   },
   "source": [
    "## **Практичне зайняття №15**\n",
    "\n",
    "### Тема: \"Ітератори та генератори\""
   ]
  },
  {
   "cell_type": "markdown",
   "metadata": {
    "id": "cfCdgK2zXm7e"
   },
   "source": [
    "### **Завдання 1 (2 бали)**\n",
    "\n",
    "Розрахуйте коефієнти розкладу [біному Ньютона](https://uk.wikipedia.org/wiki/%D0%91%D1%96%D0%BD%D0%BE%D0%BC_%D0%9D%D1%8C%D1%8E%D1%82%D0%BE%D0%BD%D0%B0) за допомогою генератора.\n",
    "\n",
    "1. Степінь многочлена користувач має вводити з клавіатури (невід'ємне ціле число).\n",
    "\n",
    "2. Програма має підраховувати біноміальні коефіцієнти для біномів усіх степенів, починаючи від 0 і закінчуючи тим, який ввів користувач.\n",
    "\n",
    "3. Коефіцієнти мають виводитись у вигляді трикутника Паскаля.\n",
    "\n",
    "Наприклад, якщо користувач введе число 5, програма має вивести результат:\n",
    "\n",
    "1\n",
    "\n",
    "1 1\n",
    "\n",
    "1 2 1\n",
    "\n",
    "1 3 3 1\n",
    "\n",
    "1 4 6 4 1\n",
    "\n",
    "1 5 10 10 5 1\n"
   ]
  },
  {
   "cell_type": "code",
   "execution_count": 8,
   "metadata": {
    "id": "Bku8v9CjE_Qc"
   },
   "outputs": [
    {
     "name": "stdout",
     "output_type": "stream",
     "text": [
      "1\n",
      "1 1\n",
      "1 2 1\n",
      "1 3 3 1\n",
      "1 4 6 4 1\n",
      "1 5 10 10 5 1\n",
      "1 6 15 20 15 6 1\n",
      "1 7 21 35 35 21 7 1\n",
      "1 8 28 56 70 56 28 8 1\n",
      "1 9 36 84 126 126 84 36 9 1\n",
      "1 10 45 120 210 252 210 120 45 10 1\n"
     ]
    }
   ],
   "source": [
    "def binomical_coefficients(n):\n",
    "    current_coefficients = []\n",
    "    new_coefficients = []\n",
    "    for i in range(n + 1):\n",
    "        for j in range(i + 1):\n",
    "            if j == 0 or j == i:\n",
    "                new_coefficients.append(1)\n",
    "            else:\n",
    "                new_coefficients.append(current_coefficients[j - 1] + current_coefficients[j])\n",
    "        yield new_coefficients\n",
    "        current_coefficients = new_coefficients\n",
    "        new_coefficients = []\n",
    "        \n",
    "def display_pascal_triangle(n):\n",
    "    for coefficients in binomical_coefficients(n):\n",
    "        print(\" \".join(map(lambda coefficient: str(coefficient), coefficients)))\n",
    "\n",
    "n = int(input(\"Enter degree:\"))\n",
    "display_pascal_triangle(n)"
   ]
  },
  {
   "cell_type": "markdown",
   "metadata": {},
   "source": [
    "### **Завдання 2 (1 бал)**\n",
    "\n",
    "Реалізуйте генератор колоди карт (52 штуки). Кожна карта подається у вигляді рядка типу \"*5 diamonds*\".\n",
    "\n",
    "1. 4 масті (diamonds, clubs, hearts, spades) та 13 значень карт мають зберігатись у двох окремих списках (кортежах).\n",
    "\n",
    "2. Значення від 2 до 10 мають гереруватись за допомогою функції range().\n",
    "\n",
    "3. Окрім чисел, у списку значень мають бути присутніми елементи 'A' (Ace - туз), 'J' (Jack - валет), 'Q' (Queen - дама) та 'K' (King - король).\n",
    "\n",
    "4. Карти мають виводитись у порядку від 'A' до 'K'. Порядок виведення мастей не має значення.\n",
    "\n",
    "    *Приклад:*\n",
    "\n",
    "    А diamonds\n",
    "\n",
    "    2 diamonds\n",
    "\n",
    "    ...\n",
    "\n",
    "    K diamonds\n",
    "\n",
    "    A clubs\n",
    "\n",
    "    ...\n",
    "\n",
    "5. Кожна наступна карта має виводитись за допомогою функції next().\n",
    "\n",
    "6. Виведення карт має завершуватись виключенням StopIteration."
   ]
  },
  {
   "cell_type": "code",
   "execution_count": 4,
   "metadata": {},
   "outputs": [
    {
     "name": "stdout",
     "output_type": "stream",
     "text": [
      "A diamonds\n",
      "2 diamonds\n",
      "3 diamonds\n",
      "4 diamonds\n",
      "5 diamonds\n",
      "6 diamonds\n",
      "7 diamonds\n",
      "8 diamonds\n",
      "9 diamonds\n",
      "10 diamonds\n",
      "J diamonds\n",
      "Q diamonds\n",
      "K diamonds\n",
      "A clubs\n",
      "2 clubs\n",
      "3 clubs\n",
      "4 clubs\n",
      "5 clubs\n",
      "6 clubs\n",
      "7 clubs\n",
      "8 clubs\n",
      "9 clubs\n",
      "10 clubs\n",
      "J clubs\n",
      "Q clubs\n",
      "K clubs\n",
      "A hearts\n",
      "2 hearts\n",
      "3 hearts\n",
      "4 hearts\n",
      "5 hearts\n",
      "6 hearts\n",
      "7 hearts\n",
      "8 hearts\n",
      "9 hearts\n",
      "10 hearts\n",
      "J hearts\n",
      "Q hearts\n",
      "K hearts\n",
      "A spades\n",
      "2 spades\n",
      "3 spades\n",
      "4 spades\n",
      "5 spades\n",
      "6 spades\n",
      "7 spades\n",
      "8 spades\n",
      "9 spades\n",
      "10 spades\n",
      "J spades\n",
      "Q spades\n",
      "K spades\n"
     ]
    }
   ],
   "source": [
    "def deck_of_cards():\n",
    "    suits = (\"diamonds\", \"clubs\", \"hearts\", \"spades\")\n",
    "    values = (\"A\", range(2, 11), \"J\", \"Q\", \"K\")\n",
    "    for suit in suits:\n",
    "        for value in values:\n",
    "            if isinstance(value, str):\n",
    "                yield f\"{value} {suit}\"\n",
    "            else:\n",
    "                for el in value:\n",
    "                    yield f\"{el} {suit}\"\n",
    "\n",
    "def display_deck_of_cards():\n",
    "    deck = deck_of_cards()\n",
    "    while True:\n",
    "        try:\n",
    "            print(next(deck))\n",
    "        except StopIteration:\n",
    "            break\n",
    "        \n",
    "display_deck_of_cards()"
   ]
  }
 ],
 "metadata": {
  "colab": {
   "collapsed_sections": [],
   "name": "Practice_10-11_KM_01_.ipynb",
   "provenance": []
  },
  "kernelspec": {
   "display_name": "Python 3",
   "name": "python3"
  },
  "language_info": {
   "codemirror_mode": {
    "name": "ipython",
    "version": 3
   },
   "file_extension": ".py",
   "mimetype": "text/x-python",
   "name": "python",
   "nbconvert_exporter": "python",
   "pygments_lexer": "ipython3",
   "version": "3.10.12"
  }
 },
 "nbformat": 4,
 "nbformat_minor": 0
}
