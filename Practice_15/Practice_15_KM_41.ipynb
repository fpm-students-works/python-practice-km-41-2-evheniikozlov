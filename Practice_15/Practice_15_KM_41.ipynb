{
 "cells": [
  {
   "cell_type": "markdown",
   "metadata": {
    "id": "FMqboNwO4rVs"
   },
   "source": [
    "# **Курс \"Програмування на мові Python\"**"
   ]
  },
  {
   "cell_type": "markdown",
   "metadata": {
    "id": "A2T6MigL5Z06"
   },
   "source": [
    "## **Практичне зайняття №13**\n",
    "\n",
    "### Тема: \"Робота з файлами\""
   ]
  },
  {
   "cell_type": "markdown",
   "metadata": {
    "id": "cfCdgK2zXm7e"
   },
   "source": [
    "### **Завдання 1 (1,5 бали)**\n",
    "\n",
    "У 1939 році друком вийшов роман американського письменика Ернеста Вінсента Райта \"Ґетсбі\". Особливу увагу публіки він здобув через те, що письменник жодного разу не використав у романі літеру \"e\" (роман складається з більше ніж 50,000 слів), яка є найбільш вживаною літерою в англійській мові.\n",
    "\n",
    "Порахуйте кількість входжень кожної літери у текст роману. Виведіть список літер англійського алфавіту, а також інформацію про те, скільки відсотків від усіх літер тексту складає кожна літера алфавіту.\n",
    "\n",
    "Зауваження:\n",
    "\n",
    "1. Програма має ігнорувати будь-які символи, окрім літер.\n",
    "\n",
    "2. Переведіть усі літери у верхній або у нижній регістр.\n",
    "\n",
    "3. Під час виведення відсортуйте літери у порядку зменшення їхнього відсотка. Літера \"e\" має стояти на останньому місці у цьому списку (хоча кілька літер e там все ж таки зустрічається).\n",
    "\n",
    "4. Виведіть перші 5 та останні 5 літер відсортованого списку разом з відсотковими значеннями, що їм відповідають. Відсотки округліть до тисячних."
   ]
  },
  {
   "cell_type": "code",
   "execution_count": null,
   "metadata": {
    "id": "u4-fHJJ6U462",
    "tags": [
     "outputPrepend"
    ]
   },
   "outputs": [
    {
     "name": "stdout",
     "output_type": "stream",
     "text": [
      "a 10.98\n",
      "o 10.403\n",
      "i 8.812\n",
      "n 8.604\n",
      "t 8.462\n",
      "...\n",
      "j 0.232\n",
      "z 0.109\n",
      "x 0.081\n",
      "q 0.05\n",
      "e 0.002\n"
     ]
    }
   ],
   "source": [
    "import string\n",
    "\n",
    "filename = \"gadsby.txt\"\n",
    "start_line = 129\n",
    "letter_to_count = {letter: 0 for letter in string.ascii_lowercase}\n",
    "\n",
    "with open(filename, \"r\") as file:\n",
    "    for current_line_number, line in enumerate(file, start=1):\n",
    "        if current_line_number < start_line:\n",
    "            continue\n",
    "        \n",
    "        for letter in line:\n",
    "            letter = letter.lower()\n",
    "            if letter in letter_to_count:\n",
    "                letter_to_count[letter] += 1\n",
    "    \n",
    "    sorted_letters = sorted(letter_to_count.items(), key = lambda x: x[1], reverse = True)\n",
    "    letters_count = sum(map(lambda x: x[1], sorted_letters))\n",
    "    \n",
    "    for i in range(5):\n",
    "        letter, count = sorted_letters[i]\n",
    "        print(f\"{letter} {round(count / letters_count * 100, 3)}%\")\n",
    "        \n",
    "    print(\"...\")\n",
    "    \n",
    "    for i in range(5):\n",
    "        letter, count = sorted_letters[len(sorted_letters) - 5 + i]\n",
    "        print(f\"{letter} {round(count / letters_count * 100, 3)}%\")"
   ]
  },
  {
   "cell_type": "markdown",
   "metadata": {
    "id": "A34oz70eU463"
   },
   "source": [
    "### **Завдання 2 (1,5 бали)**\n",
    "\n",
    "Архів archive.zip містить 140 txt-файлів, в яких збережено інфорамцію про те, якими іменами називали дітей у США в період з 1880 по 2019 рік.\n",
    "\n",
    "Структура рядка кожного файлу така:\n",
    "\n",
    "*name,sex,number_of_occurrences*\n",
    "\n",
    "Напишіть програму, яка зчитуватиме кожен файл та визначатиме окремо чоловічі, окремо жіночі імена, що були найпопулярнішими хоча б в один з років. Далі програма повинна підраховувати, скільки разів кожне з цих імен ставало найпопулярнишим, та виводити ранжовані списки чоловічіх та жіночих імен у вигляді:\n",
    "\n",
    "```\n",
    "Michael 44\n",
    "John 44\n",
    "Robert 17\n",
    "...\n",
    "\n",
    "Mary 76\n",
    "Jennifer 15\n",
    "Emily 12\n",
    "...\n",
    "```"
   ]
  },
  {
   "cell_type": "code",
   "execution_count": 51,
   "metadata": {},
   "outputs": [
    {
     "name": "stdout",
     "output_type": "stream",
     "text": [
      "John 44\n",
      "Michael 44\n",
      "Robert 17\n",
      "Jacob 14\n",
      "James 13\n",
      "Noah 4\n",
      "Liam 3\n",
      "David 1\n",
      "\n",
      "Mary 76\n",
      "Jennifer 15\n",
      "Emily 12\n",
      "Jessica 9\n",
      "Lisa 8\n",
      "Linda 6\n",
      "Emma 6\n",
      "Sophia 3\n",
      "Ashley 2\n",
      "Isabella 2\n",
      "Olivia 1\n"
     ]
    }
   ],
   "source": [
    "import zipfile\n",
    "\n",
    "zip_path = \"archive.zip\"\n",
    "\n",
    "with zipfile.ZipFile(zip_path, \"r\") as zip_file:\n",
    "    most_popular_male_names = dict()\n",
    "    most_popular_female_names = dict()\n",
    "    \n",
    "    for filename in zip_file.namelist():\n",
    "        if filename.split(\".\")[-1] != \"txt\":\n",
    "            continue\n",
    "        \n",
    "        with zip_file.open(filename, \"r\") as file:\n",
    "            most_popular_male_name = \"\"\n",
    "            most_popular_female_name = \"\"\n",
    "            count_most_popular_male_name = -1\n",
    "            count_most_popular_female_name = -1\n",
    "            \n",
    "            for line in file:\n",
    "                data = line.decode('utf-8').strip().split(\",\")\n",
    "                \n",
    "                if data[1] == 'M':\n",
    "                    if int(data[2]) > count_most_popular_male_name:\n",
    "                        count_most_popular_male_name = int(data[2])\n",
    "                        most_popular_male_name = data[0]\n",
    "                \n",
    "                if data[1] == 'F':\n",
    "                    if int(data[2]) > count_most_popular_female_name:\n",
    "                        count_most_popular_female_name = int(data[2])\n",
    "                        most_popular_female_name = data[0]\n",
    "            \n",
    "            most_popular_male_names[most_popular_male_name] = most_popular_male_names.get(most_popular_male_name, 0) + 1\n",
    "            most_popular_female_names[most_popular_female_name] = most_popular_female_names.get(most_popular_female_name, 0) + 1\n",
    "    \n",
    "    sorted_most_popular_male_names = sorted(most_popular_male_names.items(), key = lambda x: x[1], reverse = True)\n",
    "    sorted_most_popular_female_names = sorted(most_popular_female_names.items(), key = lambda x: x[1], reverse = True)\n",
    "    \n",
    "    \n",
    "    for name, count in sorted_most_popular_male_names:\n",
    "        print(f\"{name} {count}\")\n",
    "    \n",
    "    print()\n",
    "    \n",
    "    for name, count in sorted_most_popular_female_names:\n",
    "        print(f\"{name} {count}\")\n",
    "    "
   ]
  }
 ],
 "metadata": {
  "colab": {
   "collapsed_sections": [],
   "name": "Practice_14_KM_01.ipynb",
   "provenance": []
  },
  "kernelspec": {
   "display_name": "Python 3",
   "name": "python3"
  },
  "language_info": {
   "codemirror_mode": {
    "name": "ipython",
    "version": 3
   },
   "file_extension": ".py",
   "mimetype": "text/x-python",
   "name": "python",
   "nbconvert_exporter": "python",
   "pygments_lexer": "ipython3",
   "version": "3.10.12"
  }
 },
 "nbformat": 4,
 "nbformat_minor": 0
}
