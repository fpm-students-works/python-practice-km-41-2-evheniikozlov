{
  "cells": [
    {
      "cell_type": "markdown",
      "metadata": {
        "id": "FMqboNwO4rVs"
      },
      "source": [
        "# **Курс \"Програмування на мові Python\"**"
      ]
    },
    {
      "cell_type": "markdown",
      "metadata": {
        "id": "A2T6MigL5Z06"
      },
      "source": [
        "## **Практичне зайняття №8**\n",
        "\n",
        "### Тема: \"Перевірка даних. Робота з виключеннями. Регулярні вирази\""
      ]
    },
    {
      "cell_type": "markdown",
      "metadata": {
        "id": "cfCdgK2zXm7e"
      },
      "source": [
        "### **Завдання 1 (1,5 бали)**\n",
        "\n",
        "Модель tf-pose-estimation (https://github.com/ZheC/tf-pose-estimation) призначена для розпізнавання 18 ключових точок на тілі людини. Кожна точка розпізнається з певною достовірністю, що вимірюється у відсотках. Модель виводить результати у вигляді рядка:\n",
        "\n",
        "```\n",
        "[BodyPart:0-(0.55, 0.17) score=0.81 BodyPart:1-(0.49, 0.27) score=0.85 BodyPart:2-(0.41, 0.26) score=0.67 \n",
        "BodyPart:3-(0.33, 0.37) score=0.72 BodyPart:4-(0.36, 0.48) score=0.78 BodyPart:5-(0.58, 0.27) score=0.81 \n",
        "BodyPart:6-(0.65, 0.38) score=0.88 BodyPart:7-(0.62, 0.48) score=0.86 BodyPart:8-(0.43, 0.48) score=0.60 \n",
        "BodyPart:9-(0.43, 0.66) score=0.67 BodyPart:10-(0.53, 0.79) score=0.56 BodyPart:11-(0.53, 0.48) score=0.56 \n",
        "BodyPart:12-(0.59, 0.66) score=0.75 BodyPart:13-(0.49, 0.80) score=0.50 BodyPart:14-(0.54, 0.15) score=0.73 \n",
        "BodyPart:15-(0.56, 0.15) score=0.85 BodyPart:16-(0.48, 0.16) score=0.81 BodyPart:17-(0.83, 0.18) score=0.79]\n",
        "```\n",
        "\n",
        "Написати програму, яка створюватиме два списки, points та scores. В першому мають послідовно зберігатися координати точок, в другому - їхні достовірності (scores). Для поданого рядка списки матимуть вигляд:\n",
        "\n",
        "```\n",
        "points = [0.55,0.17,0.49,0.27,0.41,0.26,0.33,0.37,0.36,0.48,0.58,0.27,0.65,0.38,0.62,0.48,0.43,0.48,\n",
        "0.43,0.66,0.53,0.79,0.53,0.48,0.59,0.66,0.49,0.80,0.54,0.15,0.56,0.15,0.48,0.16,0.83,0.18]\n",
        "scores = [0.81,0.85,0.67,0.72,0.78,0.81,0.88,0.86,0.60,0.67,0.56,0.56,0.75,0.50,0.73,0.85,0.81,0.79]\n",
        "```\n",
        "\n",
        "\n",
        "1. Створити шаблон регулярного виразу.\n",
        "\n",
        "2. За допомогою функції compile() створити об'єкт регулярного виразу.\n",
        "\n",
        "3. Кількість розпізнаних точок може коливатись у межах від 0 до 18.\n",
        "\n",
        "4. Під час оцінювання коду враховуватиметься його оптимальність.\n",
        "\n",
        "5. У змінній pose_estimation зберігається тестовий рядок. Для перевірки роботи можуть використовуватись інші рядки такого ж формату."
      ]
    },
    {
      "cell_type": "code",
      "execution_count": null,
      "metadata": {
        "id": "ifNX2M7LXm7f"
      },
      "outputs": [],
      "source": [
        "import re\n",
        "\n",
        "pose_estimation = \"[BodyPart:0-(0.55, 0.17) score=0.81 BodyPart:1-(0.49, 0.27) score=0.85 BodyPart:2-(0.41, 0.26) score=0.67 BodyPart:3-(0.33, 0.37) score=0.72 BodyPart:4-(0.36, 0.48) score=0.78 BodyPart:5-(0.58, 0.27) score=0.81 BodyPart:6-(0.65, 0.38) score=0.88 BodyPart:7-(0.62, 0.48) score=0.86 BodyPart:8-(0.43, 0.48) score=0.60 BodyPart:9-(0.43, 0.66) score=0.67 BodyPart:10-(0.53, 0.79) score=0.56 BodyPart:11-(0.53, 0.48) score=0.56 BodyPart:12-(0.59, 0.66) score=0.75 BodyPart:13-(0.49, 0.80) score=0.50 BodyPart:14-(0.54, 0.15) score=0.73 BodyPart:15-(0.56, 0.15) score=0.85 BodyPart:16-(0.48, 0.16) score=0.81 BodyPart:17-(0.83, 0.18) score=0.79]\"\n",
        "\n",
        "pattern_str = r\"BodyPart:\\d+\\-\\(([\\d.]+), ([\\d.]+)\\) score=([\\d.]+)\"\n",
        "\n",
        "pattern = re.compile(pattern_str)\n",
        "\n",
        "matches = pattern.finditer(pose_estimation)\n",
        "\n",
        "points = []\n",
        "scores = []\n",
        "\n",
        "for match in matches:\n",
        "    points.append(float(match.group(1)))\n",
        "    points.append(float(match.group(2)))\n",
        "    scores.append(float(match.group(3)))\n",
        "\n",
        "print(f\"Points: {points}\")\n",
        "print(f\"Scores: {scores}\")"
      ]
    },
    {
      "cell_type": "markdown",
      "metadata": {
        "id": "M1Sg0vXJXm7n"
      },
      "source": [
        "### **Завдання 2 (1,5 бали)**\n",
        "\n",
        "Написати програму підрахунку коренів квадратного рівняння без попередніх перевірок.\n",
        "\n",
        "1. Користувач має вводити коефіцієнти a, b та c з клавіатури.\n",
        "\n",
        "2. Програма має обробляти помилки ділення на 0, кореня від'ємного числа та інші, а також виводити відповідні повідомлення у разі виникнення таких помилок.\n",
        "\n",
        "3. Якщо рівняння не має коренів, программа має генерувати помилку за допомогою ключового слова raise, а потім обробляти її.\n",
        "\n",
        "4. Правильно написана програма при виникненні різних помилок має виводити текст помилки, а також різні повідомлення про те, в чому суть цих помилок. Необроблених помилок бути не повинно."
      ]
    },
    {
      "cell_type": "code",
      "execution_count": null,
      "metadata": {
        "id": "co7fcAuvXm7o"
      },
      "outputs": [],
      "source": [
        "# Код виглядає досить дивно, але це треба щоб зберегти умову про відсутність попередінх перевірок\n",
        "\n",
        "from math import sqrt  # треба імпортувати sqrt, а не використовувати  0.5, так як вона може повертати комплексні числа\n",
        "\n",
        "class NoRootsException(Exception):  # Помилка про відсутність коренів\n",
        "    def __init__(self, msg):\n",
        "        self.msg = msg\n",
        "\n",
        "try:\n",
        "    a = float(input(\"Enter coefficient a: \"))\n",
        "    b = float(input(\"Enter coefficient b: \"))\n",
        "    c = float(input(\"Enter coefficient c: \"))\n",
        "    \n",
        "    try:\n",
        "        d = sqrt(b  2 - 4 * a * c)\n",
        "        x1 = (-b + d) / (2 * a)\n",
        "        x2 = (-b - d) / (2 * a)\n",
        "\n",
        "        try:\n",
        "            1 / d\n",
        "            print(f\"First root: {x1}\")\n",
        "            print(f\"Second root: {x2}\")\n",
        "        except ZeroDivisionError:  # Якщо корені співпадають (d == 0)\n",
        "            print(f\"Root: {x1}\")\n",
        "    except ZeroDivisionError:  # Якщо a == 0\n",
        "        try:\n",
        "            x = -c / b  # Намагаємось вирішити лінійне рівняння виду bx + c = 0\n",
        "            print(f\"Root: {x}\")\n",
        "        except ZeroDivisionError:  # Якщо b == 0\n",
        "            try:\n",
        "                1 / c\n",
        "                raise NoRootsException(\"Coefficients a and b are zero, but free coefficient is non-zero\")  # Якщо c != 0, коренів немає\n",
        "            except ZeroDivisionError:  # Якщо c == 0, коренів безліч\n",
        "                print(\"The equation has infinite roots\")\n",
        "    except ValueError:\n",
        "        raise NoRootsException(\"Discriminant is less than zero, no real roots\")\n",
        "except ValueError:  # Якщо a, b або c не є числами\n",
        "    print(\"Coefficients must be numbers\")\n",
        "except NoRootsException as e:  # Якщо немає коренів\n",
        "    print(e)\n",
        "    print(\"No roots\")\n",
        "except Exception as e:  # Якщо виникла інша непередбачена помилка\n",
        "    print(e)\n",
        "    print(\"Unknown error\")"
      ]
    }
  ],
  "metadata": {
    "colab": {
      "collapsed_sections": [],
      "name": "Practice_7_KM-01_.ipynb",
      "provenance": []
    },
    "kernelspec": {
      "display_name": "Python 3",
      "language": "python",
      "name": "python3"
    },
    "language_info": {
      "codemirror_mode": {
        "name": "ipython",
        "version": 3
      },
      "file_extension": ".py",
      "mimetype": "text/x-python",
      "name": "python",
      "nbconvert_exporter": "python",
      "pygments_lexer": "ipython3",
      "version": "3.10.12"
    }
  },
  "nbformat": 4,
  "nbformat_minor": 0
}
