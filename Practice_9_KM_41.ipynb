{
 "cells": [
  {
   "cell_type": "markdown",
   "metadata": {
    "id": "FMqboNwO4rVs"
   },
   "source": [
    "# **Курс \"Програмування на мові Python\"**"
   ]
  },
  {
   "cell_type": "markdown",
   "metadata": {
    "id": "A2T6MigL5Z06"
   },
   "source": [
    "## **Практичне зайняття №9**\n",
    "\n",
    "### Тема: \"Робота з функціями. Локальні та глобальні змінні\""
   ]
  },
  {
   "cell_type": "markdown",
   "metadata": {
    "id": "cfCdgK2zXm7e"
   },
   "source": [
    "### **Завдання 1 (3 бали)**\n",
    "\n",
    "**Підрахувати визначник матриці, використовуючи правило перестановок.**\n",
    "\n",
    "Функція random_matrix() призначена для створення квадратної матриці випадкових чисел. Її змінювати непотрібно.\n",
    "\n",
    "Приклад використання методу permutations() для створення списку перестановок також подається у комірці з кодом.\n",
    "\n",
    "1) Створити 3 функції: функцію створення списку перестановок, функцію підрахунку добутків та функцію підрахунку загальної суми.\n",
    "\n",
    "2) Кожна функція має супроводжуватись рядком документації, що буде коротко описувати її призначення.\n",
    "\n",
    "3) Розмірність квадратної матриці має вводитись користувачем з клавіатури. Підрахунки виконувати лише в тому разі, якщо користувач введе ціле додатне число.\n",
    "\n",
    "4) Загальний результат повинен підраховуватись за допомогою композиції функцій.\n",
    "\n",
    "За бажанням можна перевірити правильність роботи програми за допомогою функції np.linalg.det(a)."
   ]
  },
  {
   "cell_type": "code",
   "execution_count": null,
   "metadata": {
    "id": "ifNX2M7LXm7f"
   },
   "outputs": [
    {
     "name": "stdout",
     "output_type": "stream",
     "text": [
      "Matrix:\n",
      "[[1 9 5 4 3 4 3 3 8 9]\n",
      " [1 4 3 1 9 7 1 2 7 8]\n",
      " [8 0 7 3 3 9 7 6 9 1]\n",
      " [1 8 3 7 8 8 0 4 4 7]\n",
      " [7 6 8 0 6 9 5 5 5 0]\n",
      " [0 8 3 9 6 7 3 9 0 6]\n",
      " [2 7 4 5 8 6 6 3 8 0]\n",
      " [7 9 7 8 7 0 2 9 1 5]\n",
      " [3 3 5 4 3 1 5 1 6 9]\n",
      " [5 6 8 1 5 6 3 5 5 2]]\n",
      "Determinant is 253358606\n"
     ]
    }
   ],
   "source": [
    "import numpy as np\n",
    "import itertools\n",
    "\n",
    "def sign(permutation):\n",
    "    \"\"\"\n",
    "    The function calculates a sign for given permutation\n",
    "    \"\"\"\n",
    "    s = 0\n",
    "    for i in range(len(permutation) - 1):\n",
    "        for j in range(i + 1, len(permutation)):\n",
    "            if permutation[i] > permutation[j]:\n",
    "                s += 1\n",
    "    if s % 2 == 0:\n",
    "        return 1\n",
    "    else:\n",
    "        return -1\n",
    "\n",
    "def calc_element(matrix, permutation):\n",
    "    \"\"\"\n",
    "    The function calculates an addend that looks like the sign multiplied by product of n matrix elements\n",
    "    \"\"\"\n",
    "    prod = sign(permutation)\n",
    "    for i in range(len(matrix)):\n",
    "        prod *= matrix[i][permutation[i]]\n",
    "    return prod\n",
    "\n",
    "def calc_determinant(matrix):\n",
    "    \"\"\"\n",
    "    The function calculates determinant for given matrix\n",
    "    \"\"\"\n",
    "    permutations = itertools.permutations(range(len(matrix)))\n",
    "    s = 0\n",
    "    for permutation in permutations:\n",
    "        s += calc_element(matrix, permutation)\n",
    "    return s\n",
    "\n",
    "def random_matrix(dim):\n",
    "    \"\"\"\n",
    "    The function generates dim x dim array of integers\n",
    "    between 0 and 10.\n",
    "    \"\"\"\n",
    "    matrix = np.random.randint(10, size = (dim, dim))\n",
    "    return matrix\n",
    "\n",
    "dim = input(\"Enter dimension size: \")\n",
    "try:\n",
    "    dim = int(dim)\n",
    "    if dim < 1:\n",
    "        raise ValueError\n",
    "    matrix = random_matrix(dim)\n",
    "    print(\"Matrix:\")\n",
    "    print(matrix)\n",
    "    print(f\"Determinant is {calc_determinant(matrix)}\")\n",
    "except:\n",
    "    print(\"Dimension size must be a positive integer\")"
   ]
  },
  {
   "cell_type": "code",
   "execution_count": null,
   "metadata": {},
   "outputs": [],
   "source": []
  }
 ],
 "metadata": {
  "colab": {
   "collapsed_sections": [],
   "name": "Practice_7_KM-01_.ipynb",
   "provenance": []
  },
  "kernelspec": {
   "display_name": "Python 3",
   "language": "python",
   "name": "python3"
  },
  "language_info": {
   "codemirror_mode": {
    "name": "ipython",
    "version": 3
   },
   "file_extension": ".py",
   "mimetype": "text/x-python",
   "name": "python",
   "nbconvert_exporter": "python",
   "pygments_lexer": "ipython3",
   "version": "3.10.12"
  }
 },
 "nbformat": 4,
 "nbformat_minor": 0
}
