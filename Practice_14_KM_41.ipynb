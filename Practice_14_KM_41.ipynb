{
 "cells": [
  {
   "cell_type": "markdown",
   "metadata": {
    "id": "FMqboNwO4rVs"
   },
   "source": [
    "# **Курс \"Програмування на мові Python\"**"
   ]
  },
  {
   "cell_type": "markdown",
   "metadata": {
    "id": "A2T6MigL5Z06"
   },
   "source": [
    "## **Практичне зайняття №16**\n",
    "\n",
    "### Тема: \"Декоратори\""
   ]
  },
  {
   "cell_type": "markdown",
   "metadata": {},
   "source": [
    "### **Завдання 1 (3 бали)**\n",
    "\n",
    "Реалізуйте підрахунок площі трикутника з використанням декоратора, який перевірятиме можливість побудови трикутника з трьох введених користувачем сторін.\n",
    "\n",
    "1. Напишіть функцію area_calculation, яка підраховуватиме площу трикутника за трьома сторонами. Для підрахунку можете скористатись формулою Герона.\n",
    "\n",
    "2. Напишіть функцію check, яка перевірятиме правильність введених користувачем значень (значення мають бути додатними числами, не обов'язково цілими).\n",
    "\n",
    "3. Створіть декоратор triangle_ineq, який перевірятиме виконання нерівності трикутрика для трьох заданих користувачем сторін. Навісьте декоратор triangle_ineq на функція area_calculation та перевірте правильність роботи програми."
   ]
  },
  {
   "cell_type": "code",
   "execution_count": 19,
   "metadata": {},
   "outputs": [
    {
     "name": "stdout",
     "output_type": "stream",
     "text": [
      "The area of a triangle with sides 1.2, 3., and 4 is 1.1436345570154807\n"
     ]
    }
   ],
   "source": [
    "from math import sqrt\n",
    "\n",
    "def check(inp):\n",
    "    try:\n",
    "        inp = float(inp)\n",
    "        return inp > 0\n",
    "    except:\n",
    "        return False\n",
    "\n",
    "def triangle_ineq(func):\n",
    "    def _func(side_1, side_2, side_3):\n",
    "        sides = [side_1, side_2, side_3]\n",
    "        \n",
    "        for i in range(3):\n",
    "            if not check(sides[i]):\n",
    "                raise ValueError(f\"\\\"{sides[i]}\\\" is either not a float or is less than or equal to zero.\")\n",
    "            sides[i] = float(sides[i])\n",
    "        \n",
    "        sides.sort()\n",
    "        \n",
    "        if not (sides[0] + sides[1] > sides[2]):\n",
    "            raise ValueError(\"Triangle inequality is not fulfilled\")\n",
    "        \n",
    "        return func(sides[0], sides[1], sides[2])\n",
    "    \n",
    "    return _func\n",
    "\n",
    "@triangle_ineq\n",
    "def area_calculation(side_1, side_2, side_3):\n",
    "    half_perimeter = (side_1 + side_2 + side_3) / 2\n",
    "    area = sqrt(half_perimeter * (half_perimeter - side_1) * (half_perimeter - side_2) * (half_perimeter - side_3))\n",
    "    return area\n",
    "\n",
    "side_1 = input(\"Enter the first side: \")\n",
    "side_2 = input(\"Enter the second side: \")\n",
    "side_3 = input(\"Enter the third side: \")\n",
    "\n",
    "try:\n",
    "    area = area_calculation(side_1, side_2, side_3)\n",
    "    print(f\"The area of a triangle with sides {side_1}, {side_2}, and {side_3} is {area}\")\n",
    "except ValueError as e:\n",
    "    print(str(e))"
   ]
  }
 ],
 "metadata": {
  "colab": {
   "collapsed_sections": [],
   "name": "Practice_10-11_KM_01_.ipynb",
   "provenance": []
  },
  "kernelspec": {
   "display_name": "Python 3",
   "name": "python3"
  },
  "language_info": {
   "codemirror_mode": {
    "name": "ipython",
    "version": 3
   },
   "file_extension": ".py",
   "mimetype": "text/x-python",
   "name": "python",
   "nbconvert_exporter": "python",
   "pygments_lexer": "ipython3",
   "version": "3.10.12"
  }
 },
 "nbformat": 4,
 "nbformat_minor": 0
}
