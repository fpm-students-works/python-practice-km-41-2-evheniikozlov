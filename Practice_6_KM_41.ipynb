{
  "cells": [
    {
      "cell_type": "markdown",
      "metadata": {
        "id": "FMqboNwO4rVs"
      },
      "source": [
        "# **Курс \"Програмування на мові Python\"**"
      ]
    },
    {
      "cell_type": "markdown",
      "metadata": {
        "id": "A2T6MigL5Z06"
      },
      "source": [
        "## **Практичне зайняття №6**\n",
        "### Тема: \"Робота з кортежами, множинами та словниками\""
      ]
    },
    {
      "cell_type": "markdown",
      "metadata": {
        "id": "4AV5CN7N4xja"
      },
      "source": [
        "### **Завдання 1 (1,5 бали)**\n",
        "\n",
        "Напишіть програму, яка визначала б, чи можна з літер однієї фрази скласти іншу фразу. Наприклад:\n",
        "\n",
        "\"William Shakespeare\" -> \"A small spark\"\n",
        "\n",
        "Перша фраза містить 11 унікальних літер (хоча деякі повторюються): a, e, h, i, k, l, m, p, r, s та w. Друга фраза містить 7 унікальних літер: a, k, l, m, p, r та s. Кожна з літер другої фрази зустрічається принаймні один раз у першій фразі.\n",
        "\n",
        "1. Обидві фрази повинні вводитись користувачем з клавіатури.\n",
        "\n",
        "2. Скористайтесь властивістю множин у мові програмування Python для виділення колекції унікальних літер.\n",
        "\n",
        "3. У множину не повинні потрапити пробіли, розділові знаки та інші символи, що не є літерами (скористайтесь методом **isalpha()**). Також усі літери мають бути переведені в нижній або верхній регістр (скористайтесь методами **lower()** або **upper()**).\n",
        "\n",
        "4. Зверніть увагу на те, що літери як в першій, так і вдругій фразі можуть повторюватись. Однак множина унікальних літер другої фрази повинна бути підмножиною множини унікальних літер першої фрази.\n",
        "\n",
        "5. У складі змістовного повідомлення програма повинна виводити множину літер першої фрази, множину літер другої фрази, а також змістовне повідомлення про те, чи можна скласти з літер першої фрази другу фразу."
      ]
    },
    {
      "cell_type": "code",
      "execution_count": 6,
      "metadata": {
        "id": "9Mesp1jV4xjb"
      },
      "outputs": [
        {
          "name": "stdout",
          "output_type": "stream",
          "text": [
            "Letters of first sentence: {'d', 'c', 'e', 'o'}\n",
            "Letters of second sentence: {'t', 'l', 's', 'u', 'e', 'r'}\n",
            "Sentence two can't be created from letters of first sentence\n"
          ]
        }
      ],
      "source": [
        "sentence1 = input(\"Sentence 1: \")\n",
        "sentence2 = input(\"Sentence 2: \")\n",
        "\n",
        "letters1 = set()\n",
        "letters2 = set()\n",
        "\n",
        "for letter in sentence1:\n",
        "    if letter.isalpha():\n",
        "        letters1.add(letter.lower())\n",
        "for letter in sentence2:\n",
        "    if letter.isalpha():\n",
        "        letters2.add(letter.lower())\n",
        "        \n",
        "result = letters1 & letters2 == letters2 # якщо перетин множин A та B це множина B, то множина B це підмножина A\n",
        "answer = \"can\" if result else \"can't\"\n",
        "\n",
        "print(f\"Letters of first sentence: {letters1}\")\n",
        "print(f\"Letters of second sentence: {letters2}\")\n",
        "print(f\"Sentence two {answer} be created from letters of first sentence\")"
      ]
    },
    {
      "cell_type": "markdown",
      "metadata": {
        "id": "t7fqn1NN-J7z"
      },
      "source": [
        "### **Завдання 2 (1,5 бали)**\n",
        "\n",
        "Скрабл (Ерудит) - це настільна гра, в якій від 2 до 4 гравців складають слова з наявних літер на полі розміром 15 х 15. За кожну використану літеру гравець отримує певну кількість балів. Перелік літер та балів, які можна отримати за використання цих літер, подано у таблиці.\n",
        "\n",
        "Бали | Літери\n",
        "--- | ---\n",
        "1 | A, E, I, L, N, O, R, S, T, U\n",
        "2 | D, G\n",
        "3 | B, C, M, P\n",
        "4 | F, H, V, W, Y\n",
        "5 | K\n",
        "8 | J, X\n",
        "10 | Q, Z\n",
        "\n",
        "Напишіть програму, яка підраховує та виводить загальну кількість балів, яку можна отримати за слово, введене користувачем з клавіатури.\n",
        "\n",
        "1. Скористайтесь словником для збереження усіх балів та літер, за які ці бали нараховуються. \n",
        "\n",
        "2. Якщо користувач введе кілька слів, виведіть бали, які можна отримати за кожне з них окремо.\n",
        "\n",
        "3. Якщо користувач введе символи, що не є літерами (окрім пробіла, який можна використовувати для розділення слів), програма має їх ігнорувати.\n",
        "\n",
        "4. Програма повинна приймати літери як верхнього, так і нижнього регістрів.\n",
        "\n",
        "Наприклад, якщо користувач введе \"Hello, World!\", програма повинна вивести:\n",
        "\n",
        "8 9\n",
        "\n",
        "або більш розгорнутий варіант (за бажанням):\n",
        "\n",
        "4+1+1+1+1=8\n",
        "\n",
        "4+1+1+1+2=9"
      ]
    },
    {
      "cell_type": "code",
      "execution_count": 9,
      "metadata": {
        "id": "EVY800vg4xjg"
      },
      "outputs": [
        {
          "name": "stdout",
          "output_type": "stream",
          "text": [
            "130\n"
          ]
        }
      ],
      "source": [
        "letters_to_points = {\n",
        "    'a': 1,\n",
        "    'e': 1,\n",
        "    'i': 1,\n",
        "    'l': 1,\n",
        "    'n': 1,\n",
        "    'o': 1,\n",
        "    'r': 1,\n",
        "    's': 1,\n",
        "    't': 1,\n",
        "    'u': 1,\n",
        "    'd': 2,\n",
        "    'g': 2,\n",
        "    'b': 3,\n",
        "    'c': 3,\n",
        "    'm': 3,\n",
        "    'p': 3,\n",
        "    'f': 4,\n",
        "    'h': 4,\n",
        "    'v': 4,\n",
        "    'w': 4,\n",
        "    'y': 4,\n",
        "    'k': 5,\n",
        "    'j': 8,\n",
        "    'x': 8,\n",
        "    'q': 10,\n",
        "    'z': 10\n",
        "}\n",
        "\n",
        "words = input(\"Words: \")\n",
        "word_list = words.split(\" \")\n",
        "\n",
        "for word in word_list:\n",
        "    points = 0\n",
        "    for letter in word:\n",
        "        letter = letter.lower()\n",
        "        if letter in letters_to_points:\n",
        "            points += letters_to_points[letter]\n",
        "    print(points)"
      ]
    }
  ],
  "metadata": {
    "colab": {
      "collapsed_sections": [],
      "name": "Practice_5_KM-03_.ipynb",
      "provenance": []
    },
    "kernelspec": {
      "display_name": "Python 3",
      "language": "python",
      "name": "python3"
    },
    "language_info": {
      "codemirror_mode": {
        "name": "ipython",
        "version": 3
      },
      "file_extension": ".py",
      "mimetype": "text/x-python",
      "name": "python",
      "nbconvert_exporter": "python",
      "pygments_lexer": "ipython3",
      "version": "3.10.12"
    }
  },
  "nbformat": 4,
  "nbformat_minor": 2
}
