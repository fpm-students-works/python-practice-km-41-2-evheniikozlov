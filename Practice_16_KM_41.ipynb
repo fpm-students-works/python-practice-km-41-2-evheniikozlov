{
 "cells": [
  {
   "cell_type": "markdown",
   "metadata": {
    "id": "FMqboNwO4rVs"
   },
   "source": [
    "# **Курс \"Програмування на мові Python\"**"
   ]
  },
  {
   "cell_type": "markdown",
   "metadata": {
    "id": "A2T6MigL5Z06"
   },
   "source": [
    "## **Практичне зайняття №14**\n",
    "\n",
    "### Тема: \"Робота зі спеціальними форматами файлів\""
   ]
  },
  {
   "cell_type": "markdown",
   "metadata": {
    "id": "A34oz70eU463"
   },
   "source": [
    "### **Завдання 1 (1,5 бали)**\n",
    "\n",
    "Створіть CSV-файл, що буде містити від 5 до 10 пісень (творів) вашого улюбленого музиканта. Назва файлу - ім'я музиканта (композитора) або назва гурту.\n",
    "\n",
    "1. Обов'язково додайте до файлу рядок з назвами двох колонок (Song, Year) або (Composition, Year).\n",
    "\n",
    "2. Після запису файлу роздрукуйте назву файлу та усі наявні у файлі рядки (включно із заголовками).\n",
    "\n",
    "3. Для запису та зчитування рядків скористайтесь функціями csv.DictWriter() та csv.DictReader()."
   ]
  },
  {
   "cell_type": "code",
   "execution_count": 7,
   "metadata": {
    "id": "MEJIrG1GU463"
   },
   "outputs": [
    {
     "name": "stdout",
     "output_type": "stream",
     "text": [
      "Song Year\n",
      "The Search 2019 \n",
      "Leave Me Alone 2019 \n",
      "When I Grow Up 2019 \n",
      "CLOUDS 2021 \n",
      "DRIFTING 2021 \n",
      "HOPE 2023 \n",
      "MOTTO 2023 \n"
     ]
    }
   ],
   "source": [
    "import csv\n",
    "\n",
    "fieldnames = [\"Song\", \"Year\"]\n",
    "filename = \"nf.csv\"\n",
    "\n",
    "data = [\n",
    "    {\n",
    "        fieldnames[0]: \"The Search\",\n",
    "        fieldnames[1]: 2019\n",
    "    },\n",
    "    {\n",
    "        fieldnames[0]: \"Leave Me Alone\",\n",
    "        fieldnames[1]: 2019\n",
    "    },\n",
    "    {\n",
    "        fieldnames[0]: \"When I Grow Up\",\n",
    "        fieldnames[1]: 2019\n",
    "    },\n",
    "    {\n",
    "        fieldnames[0]: \"CLOUDS\",\n",
    "        fieldnames[1]: 2021\n",
    "    },\n",
    "    {\n",
    "        fieldnames[0]: \"DRIFTING\",\n",
    "        fieldnames[1]: 2021\n",
    "    },\n",
    "    {\n",
    "        fieldnames[0]: \"HOPE\",\n",
    "        fieldnames[1]: 2023\n",
    "    },\n",
    "    {\n",
    "        fieldnames[0]: \"MOTTO\",\n",
    "        fieldnames[1]: 2023\n",
    "    },\n",
    "]\n",
    "\n",
    "with open(filename, \"w\", newline = \"\") as csvfile:\n",
    "    writer = csv.DictWriter(csvfile, fieldnames=fieldnames)\n",
    "    writer.writeheader()\n",
    "    writer.writerows(data)\n",
    "    \n",
    "with open(filename, \"r\", newline = \"\") as csvfile:\n",
    "    reader = csv.DictReader(csvfile)\n",
    "    \n",
    "    print(\" \".join(reader.fieldnames))\n",
    "    for row in reader:\n",
    "        for fieldname in fieldnames:\n",
    "            print(row[fieldname], end = \" \")\n",
    "        print()"
   ]
  },
  {
   "cell_type": "markdown",
   "metadata": {
    "id": "Jb-eSBsWU464"
   },
   "source": [
    "### **Завдання 2 (1,5 бали)**\n",
    "\n",
    "COCO Dataset - набір фотографій та анотацій до них. Його дуже часто використовують для тренування класифікаторів, призначених для розпізнавання об'єктів та визначення ключових точок на зображеннях.\n",
    "\n",
    "Завантажте файли з описом фотографій COCO Dataset за посиланням: [COCO Dataset](http://images.cocodataset.org/annotations/image_info_test2017.zip).\n",
    "\n",
    "Відкрийте файл image_info_test-dev2017.json. Інформація про фотографії з бази COCO міститься у полі \"images\". Інформація про категорії, на які розділені всі фотографії, міститься у полі \"categories\".\n",
    "\n",
    "1. Визначте кількість фотографій, інформацію про які можна знайти у цьому файлі (кількість елементів, що відповідають ключу \"images\").\n",
    "\n",
    "2. Визначте кількість наявних категорій (кількість елементів, що відповідають ключу \"categories\").\n",
    "\n",
    "3. Виведіть посилання на фотографію 000000000001.jpg (\"coco_url\"). Також виведіть висоту цієї фотографії (\"height\"), ширину (\"width\") та її ідентифікатор (\"id\").\n",
    "\n",
    "4. Виведіть назву фотографії з набільшим номером.\n",
    "\n",
    "Опис структури JSON-файлу для набору фотографій COCO можна знайти за посиланням: [Data format](https://cocodataset.org/#format-data).\n",
    "\n",
    "Щоб перевірити правильність результатів, у VS Code встановіть розширення JSON та відкрийте файл image_info_test-dev2017.json. Розширення автоматично визначає кількість елементів у кожному полі."
   ]
  },
  {
   "cell_type": "code",
   "execution_count": 35,
   "metadata": {},
   "outputs": [
    {
     "name": "stdout",
     "output_type": "stream",
     "text": [
      "Count images - 20288\n",
      "Count categories - 80\n",
      "image 000000000001.jpg has these properties:\n",
      "\t * coco_url - http://images.cocodataset.org/test2017/000000000001.jpg\n",
      "\t * height - 480\n",
      "\t * width - 640\n",
      "\t * id - 1\n",
      "Biggest id is 581918. Photo with this id has file name 000000581918.jpg\n"
     ]
    }
   ],
   "source": [
    "import json\n",
    "\n",
    "file_name = \"image_info_test-dev2017.json\"\n",
    "target_image_name = \"000000000001.jpg\"\n",
    "image_properties = [\"coco_url\", \"height\", \"width\", \"id\"]\n",
    "\n",
    "biggest_id = -1\n",
    "file_name_of_biggest_id = \"\"\n",
    "\n",
    "with open(file_name) as f:\n",
    "    data = json.load(f)\n",
    "\n",
    "print(f\"Count images - {len(data['images'])}\")\n",
    "print(f\"Count categories - {len(data['categories'])}\")\n",
    "\n",
    "for image in data[\"images\"]:\n",
    "    if image[\"file_name\"] == target_image_name:\n",
    "        print(f\"image {image['file_name']} has these properties:\")\n",
    "        for image_property in image_properties:\n",
    "            print(f\"\\t * {image_property} - {image[image_property]}\")\n",
    "    \n",
    "    if image[\"id\"] > biggest_id:\n",
    "        biggest_id = image[\"id\"]\n",
    "        file_name_of_biggest_id = image[\"file_name\"]\n",
    "        \n",
    "print(f\"Biggest id is {biggest_id}. Photo with this id has file name {file_name_of_biggest_id}\")"
   ]
  }
 ],
 "metadata": {
  "colab": {
   "collapsed_sections": [],
   "name": "Practice_14_KM_01.ipynb",
   "provenance": []
  },
  "kernelspec": {
   "display_name": "Python 3",
   "name": "python3"
  },
  "language_info": {
   "codemirror_mode": {
    "name": "ipython",
    "version": 3
   },
   "file_extension": ".py",
   "mimetype": "text/x-python",
   "name": "python",
   "nbconvert_exporter": "python",
   "pygments_lexer": "ipython3",
   "version": "3.10.12"
  }
 },
 "nbformat": 4,
 "nbformat_minor": 0
}
